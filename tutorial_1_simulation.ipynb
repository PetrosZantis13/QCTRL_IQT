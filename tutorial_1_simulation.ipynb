{
 "cells": [
  {
   "cell_type": "code",
   "execution_count": 1,
   "id": "56809754",
   "metadata": {},
   "outputs": [
    {
     "data": {
      "text/plain": [
       "'\\nQ-CTRL Boulder Opal Tutorial 1:\\nSimulate and visualize quantum system dynamics in Boulder Opal\\nThis is the interactive notebook version by Petros Zantis\\n'"
      ]
     },
     "execution_count": 1,
     "metadata": {},
     "output_type": "execute_result"
    }
   ],
   "source": [
    "'''\n",
    "Q-CTRL Boulder Opal Tutorial 1:\n",
    "Simulate and visualize quantum system dynamics in Boulder Opal\n",
    "This is the interactive notebook version by Petros Zantis\n",
    "'''"
   ]
  },
  {
   "cell_type": "code",
   "execution_count": 7,
   "id": "3048c94b",
   "metadata": {},
   "outputs": [],
   "source": [
    "# Import packages.\n",
    "from ipywidgets import interact, interactive, fixed, interact_manual\n",
    "import ipywidgets as widgets\n",
    "import numpy as np\n",
    "import matplotlib.pyplot as plt\n",
    "from IPython.display import display\n",
    "from qctrl import Qctrl\n",
    "import qctrlvisualizer"
   ]
  },
  {
   "cell_type": "code",
   "execution_count": 8,
   "id": "14c71d46",
   "metadata": {},
   "outputs": [],
   "source": [
    "states = 0 # initialise the global state variable\n",
    "\n",
    "def set_states(new_states):\n",
    "    states = new_states\n",
    "    \n",
    "def get_states():\n",
    "    return states "
   ]
  },
  {
   "cell_type": "code",
   "execution_count": 9,
   "id": "ef8e93d0",
   "metadata": {},
   "outputs": [],
   "source": [
    "# Apply Q-CTRL style to plots created in pyplot.\n",
    "plt.style.use(qctrlvisualizer.get_qctrl_style())\n",
    "\n",
    "# Start a Boulder Opal session.\n",
    "qctrl = Qctrl()\n",
    "\n",
    "\n",
    "\n",
    "def constant_H(omega=1.0e6, delta=0.4e6, duration = 2e-6):\n",
    "    '''\n",
    "    Simulating single-qubit dynamics with a constant Hamiltonian.\n",
    "    omega : Rabi drive in Hz\n",
    "    delta : Detuning in Hz\n",
    "    duration: Total duration of the simulation in s\n",
    "    '''\n",
    "    graph = qctrl.create_graph()\n",
    "\n",
    "    # (Constant) Hamiltonian parameters.\n",
    "    omega = 2*np.pi*omega  # convert from Hz to rad\n",
    "    delta = 2*np.pi*delta  # convert from Hz to rad\n",
    "\n",
    "    # Hamiltonian term coefficients.\n",
    "    omega_signal = graph.constant_pwc(constant=omega, duration=duration)\n",
    "    delta_signal = graph.constant_pwc(constant=delta, duration=duration)\n",
    "\n",
    "    # Pauli matrices σ- and σz.\n",
    "    sigma_m = np.array([[0, 1], [0, 0]])\n",
    "    sigma_z = np.array([[1, 0], [0, -1]])\n",
    "\n",
    "    # Total Hamiltonian, [Ω σ- + H.c.]/2 + δ σz.\n",
    "    hamiltonian = (\n",
    "        graph.pwc_operator_hermitian_part(omega_signal * sigma_m) +\n",
    "        delta_signal * sigma_z)\n",
    "\n",
    "    # Times at which to sample the simulation.\n",
    "    sample_times = np.linspace(0.0, duration, 100)\n",
    "\n",
    "    # Time-evolution operators, U(t).\n",
    "    unitaries = graph.time_evolution_operators_pwc(\n",
    "        hamiltonian=hamiltonian, sample_times=sample_times, name=\"unitaries\"\n",
    "    )\n",
    "\n",
    "    # Initial state of the qubit, |0⟩.\n",
    "    initial_state = np.array([[1], [0]])\n",
    "\n",
    "    # Evolved states, |ψ(t)⟩ = U(t) |0⟩\n",
    "    evolved_states = unitaries @ initial_state  # @ => matrix multiplication\n",
    "    evolved_states.name = \"states\"\n",
    "\n",
    "    result = qctrl.functions.calculate_graph(\n",
    "        graph=graph, output_node_names=[\"unitaries\", \"states\"]\n",
    "    )\n",
    "\n",
    "    unitaries = result.output[\"unitaries\"][\"value\"]\n",
    "    print(f\"Shape of calculated unitaries: {unitaries.shape}\")\n",
    "\n",
    "    states = result.output[\"states\"][\"value\"]\n",
    "    print(f\"Shape of calculated evolved states: {states.shape}\")\n",
    "    set_states(new_states)\n",
    "\n",
    "    # Calculate qubit populations |⟨ψ|0⟩|².\n",
    "    qubit_populations = np.abs(states.squeeze()) ** 2\n",
    "\n",
    "    # Plot populations.\n",
    "    plt.figure(figsize=(10, 5))\n",
    "    plt.plot(sample_times / 1e-6, qubit_populations)\n",
    "    plt.xlabel(\"Time (µs)\")\n",
    "    plt.ylabel(\"Population\")\n",
    "    plt.legend(labels=[rf\"$|{k}\\rangle$\" for k in [0, 1]], title=\"State\")\n",
    "    plt.show()\n"
   ]
  },
  {
   "cell_type": "code",
   "execution_count": 12,
   "id": "9b6f62d1",
   "metadata": {},
   "outputs": [
    {
     "name": "stdout",
     "output_type": "stream",
     "text": [
      "<function get_states at 0x0000020688714B80>\n"
     ]
    },
    {
     "ename": "AttributeError",
     "evalue": "'function' object has no attribute 'squeeze'",
     "output_type": "error",
     "traceback": [
      "\u001b[1;31m---------------------------------------------------------------------------\u001b[0m",
      "\u001b[1;31mAttributeError\u001b[0m                            Traceback (most recent call last)",
      "Input \u001b[1;32mIn [12]\u001b[0m, in \u001b[0;36m<cell line: 13>\u001b[1;34m()\u001b[0m\n\u001b[0;32m     11\u001b[0m states \u001b[38;5;241m=\u001b[39m get_states()\n\u001b[0;32m     12\u001b[0m \u001b[38;5;28mprint\u001b[39m(states)\n\u001b[1;32m---> 13\u001b[0m qctrlvisualizer\u001b[38;5;241m.\u001b[39mdisplay_bloch_sphere(\u001b[43mstates\u001b[49m\u001b[38;5;241;43m.\u001b[39;49m\u001b[43msqueeze\u001b[49m())\n",
      "\u001b[1;31mAttributeError\u001b[0m: 'function' object has no attribute 'squeeze'"
     ]
    }
   ],
   "source": [
    "# constant_H(1.0e6, 0.5*1.0e6)   # uncomment to run\n",
    "%matplotlib inline\n",
    "\n",
    "interactive_plot = interactive(constant_H, omega=(1.0e6, 5.0e6, 1.0e6), delta=(0, 5.0e6, 1.0e6), \n",
    "                               duration = (1.0e6, 5.0e6, 1.0e6))\n",
    "output = interactive_plot.children[-1]\n",
    "output.layout.height = '350px'\n",
    "interactive_plot\n",
    "\n",
    "# Interactive visualisation on the Bloch Sphere;\n",
    "states = get_states()\n",
    "print(states)\n",
    "qctrlvisualizer.display_bloch_sphere(states.squeeze())"
   ]
  },
  {
   "cell_type": "code",
   "execution_count": null,
   "id": "1aead453",
   "metadata": {},
   "outputs": [],
   "source": [
    "def time_dep_H(omega_max=1.0e6, delta=0.4e6):\n",
    "    '''\n",
    "    Simulating a π/2 gate in a single qubit with a time-dependent Hamiltonian\n",
    "    omega_max : Peak of Gaussian Rabi drive in Hz\n",
    "    delta : Detuning in Hz\n",
    "    '''\n",
    "\n",
    "    # Gaussian pulse parameters.\n",
    "    omega_max = 2.0*np.pi*omega_max  # convert from Hz to rad\n",
    "    segment_count = 50\n",
    "    times = np.linspace(-3, 3, segment_count)\n",
    "    omega_values = -1j * omega_max * np.exp(-(times**2))  # -i ω(t)\n",
    "\n",
    "    # Total duration of the pulse to achieve a π/2 gate.\n",
    "    # (Equation derivation explained in the tutorial)\n",
    "    pulse_duration = 0.5 * segment_count * np.pi / np.sum(np.abs(omega_values))\n",
    "\n",
    "    # Duration of each piecewise-constant segment.\n",
    "    segment_duration = pulse_duration / segment_count\n",
    "\n",
    "    # Plot Gaussian pulse.\n",
    "    qctrlvisualizer.plot_controls(\n",
    "        plt.figure(),\n",
    "        {\"$\\Omega$\": [{\"value\": v, \"duration\": segment_duration} for v in omega_values]},\n",
    "        polar=False,\n",
    "    )\n",
    "    plt.show()\n",
    "\n",
    "    graph = qctrl.create_graph()\n",
    "\n",
    "    # Times at which to sample the simulation.\n",
    "    sample_times = np.linspace(0.0, pulse_duration, 100)\n",
    "\n",
    "    # Time-dependent Hamiltonian term coefficient.\n",
    "    omega_signal = graph.pwc_signal(values=omega_values, duration=pulse_duration)\n",
    "\n",
    "    # Pauli matrix σ-\n",
    "    sigma_m = np.array([[0, 1], [0, 0]])\n",
    "\n",
    "    # Total Hamiltonian, [Ω σ- + H.c.]/2\n",
    "    hamiltonian = graph.pwc_operator_hermitian_part(omega_signal * sigma_m)\n",
    "\n",
    "    # Time-evolution operators, U(t).\n",
    "    unitaries = graph.time_evolution_operators_pwc(\n",
    "        hamiltonian=hamiltonian, sample_times=sample_times, name=\"unitaries\"\n",
    "    )\n",
    "\n",
    "    # Initial state of the qubit, |0⟩.\n",
    "    initial_state = np.array([[1], [0]])\n",
    "\n",
    "    # Evolved states, |ψ(t)⟩ = U(t) |0⟩\n",
    "    evolved_states = unitaries @ initial_state\n",
    "    evolved_states.name = \"states\"\n",
    "\n",
    "    # Execute the graph.\n",
    "    result = qctrl.functions.calculate_graph(\n",
    "        graph=graph, output_node_names=[\"unitaries\", \"states\"]\n",
    "    )\n",
    "\n",
    "    # Retrieve values of the calculation\n",
    "    unitaries = result.output[\"unitaries\"][\"value\"]\n",
    "    states = result.output[\"states\"][\"value\"]\n",
    "\n",
    "    print(\"Unitary gate implemented by the Gaussian pulse:\")\n",
    "    print(unitaries[-1])\n",
    "    print()\n",
    "    print(\"Final state after the gate:\")\n",
    "    print(states[-1])\n",
    "\n",
    "    # Calculate qubit populations |⟨ψ|0⟩|².\n",
    "    qubit_populations = np.abs(states.squeeze()) ** 2\n",
    "\n",
    "    # Plot populations.\n",
    "    plt.figure(figsize=(10, 5))\n",
    "    plt.plot(sample_times / 1e-6, qubit_populations)\n",
    "    plt.xlabel(\"Time (µs)\")\n",
    "    plt.ylabel(\"Population\")\n",
    "    plt.legend(labels=[rf\"$|{k}\\rangle$\" for k in [0, 1]], title=\"State\")\n",
    "    plt.show()\n"
   ]
  },
  {
   "cell_type": "code",
   "execution_count": null,
   "id": "a4cd5e18",
   "metadata": {},
   "outputs": [],
   "source": [
    "# time_dep_H()   # uncomment to run"
   ]
  },
  {
   "cell_type": "code",
   "execution_count": null,
   "id": "0cc28b66",
   "metadata": {},
   "outputs": [],
   "source": []
  }
 ],
 "metadata": {
  "kernelspec": {
   "display_name": "Python 3 (ipykernel)",
   "language": "python",
   "name": "python3"
  },
  "language_info": {
   "codemirror_mode": {
    "name": "ipython",
    "version": 3
   },
   "file_extension": ".py",
   "mimetype": "text/x-python",
   "name": "python",
   "nbconvert_exporter": "python",
   "pygments_lexer": "ipython3",
   "version": "3.10.2"
  }
 },
 "nbformat": 4,
 "nbformat_minor": 5
}
